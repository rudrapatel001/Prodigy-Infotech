{
 "cells": [
  {
   "cell_type": "markdown",
   "metadata": {},
   "source": [
    "## Prodigy Infotech\n",
    "\n",
    "### Author : Rudra Patel\n",
    "\n",
    "\n",
    "### Data Science\n",
    "### Task-03\n",
    "\n",
    "#### Task: Build a decision tree classifier to predict whether a customer will purchase a product or service based on their demographic and behavioral data. Use a dataset such as the Bank Marketing dataset from the UCI Machine Learning Repository.\n",
    "\n",
    "### DataSet Link : https://archive.ics.uci.edu/dataset/222/bank+marketing"
   ]
  }
 ],
 "metadata": {
  "language_info": {
   "name": "python"
  }
 },
 "nbformat": 4,
 "nbformat_minor": 2
}
